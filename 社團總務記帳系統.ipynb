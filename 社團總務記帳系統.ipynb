{
  "nbformat": 4,
  "nbformat_minor": 0,
  "metadata": {
    "colab": {
      "provenance": [],
      "authorship_tag": "ABX9TyOx0kjH97M5TWFqvYDk8tTd",
      "include_colab_link": true
    },
    "kernelspec": {
      "name": "python3",
      "display_name": "Python 3"
    },
    "language_info": {
      "name": "python"
    }
  },
  "cells": [
    {
      "cell_type": "markdown",
      "metadata": {
        "id": "view-in-github",
        "colab_type": "text"
      },
      "source": [
        "<a href=\"https://colab.research.google.com/github/41371116h/PL-Repo./blob/main/%E7%A4%BE%E5%9C%98%E7%B8%BD%E5%8B%99%E8%A8%98%E5%B8%B3%E7%B3%BB%E7%B5%B1.ipynb\" target=\"_parent\"><img src=\"https://colab.research.google.com/assets/colab-badge.svg\" alt=\"Open In Colab\"/></a>"
      ]
    },
    {
      "cell_type": "code",
      "source": [
        "import gradio as gr\n",
        "import pandas as pd\n",
        "import datetime\n",
        "import gspread\n",
        "from google.colab import auth\n",
        "from google.auth import default\n",
        "\n",
        "# ===== Google Sheets 設定 =====\n",
        "SHEET_URL = \"https://docs.google.com/spreadsheets/d/1GScHTHISiioV89XO5twgGl-IpaYG-0nMwhLRTizSpNI/edit?pli=1&gid=0#gid=0\"\n",
        "WORKSHEET_NAME = \"工作表1\"\n",
        "\n",
        "# ===== Google 授權 =====\n",
        "auth.authenticate_user()\n",
        "creds, _ = default()\n",
        "gc = gspread.authorize(creds)\n",
        "gsheets = gc.open_by_url(SHEET_URL)\n",
        "worksheet = gsheets.worksheet(WORKSHEET_NAME)\n",
        "\n",
        "# ===== 寫入函數 =====\n",
        "def add_data(date_str, time_str, item, price, number, people, reimbursement):\n",
        "    try:\n",
        "        # 驗證日期和時間格式\n",
        "        datetime.datetime.strptime(date_str, '%Y-%m-%d')\n",
        "        datetime.datetime.strptime(time_str, '%H:%M')\n",
        "\n",
        "        price = float(price)\n",
        "        number = float(number)\n",
        "        expense = price * number\n",
        "\n",
        "        new_row = [date_str, time_str, item, price, number, expense, people, reimbursement]\n",
        "        worksheet.append_row(new_row, value_input_option='USER_ENTERED')\n",
        "\n",
        "        # 取得最新資料的前5筆\n",
        "        all_data = worksheet.get_all_values()\n",
        "        df = pd.DataFrame(all_data[1:], columns=all_data[0])\n",
        "        preview = df.head().to_string(index=False)\n",
        "\n",
        "        return f\"✅ 資料已成功寫入 Google 工作表！\\n\\n目前前5筆資料：\\n{preview}\"\n",
        "    except ValueError:\n",
        "        return \"❌ 日期或時間格式錯誤，請使用 YYYY-MM-DD 與 HH:MM 格式\"\n",
        "    except Exception as e:\n",
        "        return f\"❌ 發生錯誤：{e}\"\n",
        "\n",
        "# ===== Gradio 介面 =====\n",
        "with gr.Blocks() as demo:\n",
        "    gr.Markdown(\"## 📊 Google 試算表資料輸入\")\n",
        "    with gr.Row():\n",
        "        date_in = gr.Textbox(label=\"日期 (YYYY-MM-DD)\")\n",
        "        time_in = gr.Textbox(label=\"時間 (HH:MM)\")\n",
        "    item_in = gr.Textbox(label=\"品項\")\n",
        "    with gr.Row():\n",
        "        price_in = gr.Number(label=\"單價\")\n",
        "        number_in = gr.Number(label=\"數量\")\n",
        "    people_in = gr.Textbox(label=\"請款人\")\n",
        "    reimbursement_in = gr.Dropdown(choices=[\"是\", \"否\"], label=\"是否核銷\", value=\"否\")\n",
        "    output = gr.Textbox(label=\"結果\", lines=12)\n",
        "\n",
        "    submit_btn = gr.Button(\"寫入 Google 工作表\")\n",
        "    submit_btn.click(\n",
        "        fn=add_data,\n",
        "        inputs=[date_in, time_in, item_in, price_in, number_in, people_in, reimbursement_in],\n",
        "        outputs=output\n",
        "    )\n",
        "\n",
        "demo.launch()\n"
      ],
      "metadata": {
        "colab": {
          "base_uri": "https://localhost:8080/",
          "height": 646
        },
        "id": "J8qdCSDenjsO",
        "outputId": "13ffab37-d53f-4451-861a-96fe87383140"
      },
      "execution_count": 1,
      "outputs": [
        {
          "output_type": "stream",
          "name": "stdout",
          "text": [
            "It looks like you are running Gradio on a hosted Jupyter notebook, which requires `share=True`. Automatically setting `share=True` (you can turn this off by setting `share=False` in `launch()` explicitly).\n",
            "\n",
            "Colab notebook detected. To show errors in colab notebook, set debug=True in launch()\n",
            "* Running on public URL: https://d30cd4d0f525f5c624.gradio.live\n",
            "\n",
            "This share link expires in 1 week. For free permanent hosting and GPU upgrades, run `gradio deploy` from the terminal in the working directory to deploy to Hugging Face Spaces (https://huggingface.co/spaces)\n"
          ]
        },
        {
          "output_type": "display_data",
          "data": {
            "text/plain": [
              "<IPython.core.display.HTML object>"
            ],
            "text/html": [
              "<div><iframe src=\"https://d30cd4d0f525f5c624.gradio.live\" width=\"100%\" height=\"500\" allow=\"autoplay; camera; microphone; clipboard-read; clipboard-write;\" frameborder=\"0\" allowfullscreen></iframe></div>"
            ]
          },
          "metadata": {}
        },
        {
          "output_type": "execute_result",
          "data": {
            "text/plain": []
          },
          "metadata": {},
          "execution_count": 1
        }
      ]
    }
  ]
}