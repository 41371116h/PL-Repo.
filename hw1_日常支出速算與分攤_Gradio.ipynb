{
  "nbformat": 4,
  "nbformat_minor": 0,
  "metadata": {
    "colab": {
      "provenance": [],
      "authorship_tag": "ABX9TyMqzAc96GIM4wWdb0JMDlqo",
      "include_colab_link": true
    },
    "kernelspec": {
      "name": "python3",
      "display_name": "Python 3"
    },
    "language_info": {
      "name": "python"
    }
  },
  "cells": [
    {
      "cell_type": "markdown",
      "metadata": {
        "id": "view-in-github",
        "colab_type": "text"
      },
      "source": [
        "<a href=\"https://colab.research.google.com/github/41371116h/PL-Repo./blob/main/hw1_%E6%97%A5%E5%B8%B8%E6%94%AF%E5%87%BA%E9%80%9F%E7%AE%97%E8%88%87%E5%88%86%E6%94%A4_Gradio.ipynb\" target=\"_parent\"><img src=\"https://colab.research.google.com/assets/colab-badge.svg\" alt=\"Open In Colab\"/></a>"
      ]
    },
    {
      "cell_type": "code",
      "source": [
        "import gradio as gr\n",
        "import pandas as pd\n",
        "import datetime\n",
        "import gspread\n",
        "from google.colab import auth\n",
        "from google.auth import default\n",
        "\n",
        "# ===== Google Sheets 設定 =====\n",
        "SHEET_URL = \"https://docs.google.com/spreadsheets/d/1GScHTHISiioV89XO5twgGl-IpaYG-0nMwhLRTizSpNI/edit?pli=1&gid=0#gid=0\"\n",
        "WORKSHEET_NAME = \"工作表1\"\n",
        "\n",
        "# ===== Google 授權 =====\n",
        "auth.authenticate_user()\n",
        "creds, _ = default()\n",
        "gc = gspread.authorize(creds)\n",
        "gsheets = gc.open_by_url(SHEET_URL)\n",
        "worksheet = gsheets.worksheet(WORKSHEET_NAME)\n",
        "\n",
        "# 請款人選單\n",
        "PEOPLE_LIST = [\"黃惠榆\", \"謝宜君\", \"白曉辰\", \"顧晏\", \"江燮\", \"謝云森\"]\n",
        "\n",
        "# ===== 寫入函數 =====\n",
        "def add_data(date_str, time_str, item, price, number, people, reimbursement):\n",
        "    try:\n",
        "        datetime.datetime.strptime(date_str, '%Y-%m-%d')\n",
        "        datetime.datetime.strptime(time_str, '%H:%M')\n",
        "\n",
        "        price = float(price)\n",
        "        number = float(number)\n",
        "        expense = price * number\n",
        "\n",
        "        new_row = [date_str, time_str, item, price, number, expense, people, reimbursement]\n",
        "        worksheet.append_row(new_row, value_input_option='USER_ENTERED')\n",
        "\n",
        "        return \"✅ 資料已成功寫入 Google 工作表！\"\n",
        "    except ValueError:\n",
        "        return \"❌ 日期或時間格式錯誤，請使用 YYYY-MM-DD 與 HH:MM 格式\"\n",
        "    except Exception as e:\n",
        "        return f\"❌ 發生錯誤：{e}\"\n",
        "\n",
        "# ===== 統計未請款金額 =====\n",
        "def calculate_unclaimed():\n",
        "    try:\n",
        "        all_data = worksheet.get_all_values()\n",
        "        if not all_data or len(all_data) < 2:\n",
        "            return \"目前沒有資料。\"\n",
        "\n",
        "        df = pd.DataFrame(all_data[1:], columns=all_data[0])\n",
        "        df[\"支出\"] = pd.to_numeric(df[\"支出\"], errors=\"coerce\")\n",
        "        unclaimed = df[df[\"是否核銷\"] == \"否\"]\n",
        "        if unclaimed.empty:\n",
        "            return \"目前沒有未請款金額。\"\n",
        "\n",
        "        grouped = unclaimed.groupby(\"請款人\")[\"支出\"].sum()\n",
        "        result = \"\\n\".join([f\"{person}: {amount}\" for person, amount in grouped.items()])\n",
        "        return f\"📊 各請款人未請款金額：\\n{result}\"\n",
        "    except Exception as e:\n",
        "        return f\"❌ 發生錯誤：{e}\"\n",
        "\n",
        "# ===== Gradio Tabs 介面 =====\n",
        "with gr.Blocks() as demo:\n",
        "    gr.Markdown(\"## 📊 Google 試算表系統\")\n",
        "\n",
        "    with gr.Tabs():\n",
        "        # --- 分頁1：資料輸入 ---\n",
        "        with gr.Tab(\"資料輸入\"):\n",
        "            with gr.Row():\n",
        "                date_in = gr.Textbox(label=\"日期 (YYYY-MM-DD)\")\n",
        "                time_in = gr.Textbox(label=\"時間 (HH:MM)\")\n",
        "            item_in = gr.Textbox(label=\"品項\")\n",
        "            with gr.Row():\n",
        "                price_in = gr.Number(label=\"單價\")\n",
        "                number_in = gr.Number(label=\"數量\")\n",
        "            people_in = gr.Dropdown(choices=PEOPLE_LIST, label=\"請款人\", value=PEOPLE_LIST[0])\n",
        "            reimbursement_in = gr.Dropdown(choices=[\"是\", \"否\"], label=\"是否核銷\", value=\"否\")\n",
        "\n",
        "            submit_output = gr.Textbox(label=\"結果\", lines=6)\n",
        "            submit_btn = gr.Button(\"寫入 Google 工作表\")\n",
        "            submit_btn.click(\n",
        "                fn=add_data,\n",
        "                inputs=[date_in, time_in, item_in, price_in, number_in, people_in, reimbursement_in],\n",
        "                outputs=submit_output\n",
        "            )\n",
        "\n",
        "        # --- 分頁2：未請款金額統計 ---\n",
        "        with gr.Tab(\"未請款金額統計\"):\n",
        "            stats_output = gr.Textbox(label=\"未請款統計結果\", lines=10)\n",
        "            stats_btn = gr.Button(\"更新未請款金額\")\n",
        "            stats_btn.click(fn=calculate_unclaimed, inputs=None, outputs=stats_output)\n",
        "\n",
        "demo.launch()\n"
      ],
      "metadata": {
        "colab": {
          "base_uri": "https://localhost:8080/",
          "height": 646
        },
        "id": "4QAbzKvCqGv9",
        "outputId": "ed13fdff-3b5a-449d-a3f0-450ef20e81e4"
      },
      "execution_count": 3,
      "outputs": [
        {
          "output_type": "stream",
          "name": "stdout",
          "text": [
            "It looks like you are running Gradio on a hosted Jupyter notebook, which requires `share=True`. Automatically setting `share=True` (you can turn this off by setting `share=False` in `launch()` explicitly).\n",
            "\n",
            "Colab notebook detected. To show errors in colab notebook, set debug=True in launch()\n",
            "* Running on public URL: https://6a7db32606b2dfb241.gradio.live\n",
            "\n",
            "This share link expires in 1 week. For free permanent hosting and GPU upgrades, run `gradio deploy` from the terminal in the working directory to deploy to Hugging Face Spaces (https://huggingface.co/spaces)\n"
          ]
        },
        {
          "output_type": "display_data",
          "data": {
            "text/plain": [
              "<IPython.core.display.HTML object>"
            ],
            "text/html": [
              "<div><iframe src=\"https://6a7db32606b2dfb241.gradio.live\" width=\"100%\" height=\"500\" allow=\"autoplay; camera; microphone; clipboard-read; clipboard-write;\" frameborder=\"0\" allowfullscreen></iframe></div>"
            ]
          },
          "metadata": {}
        },
        {
          "output_type": "execute_result",
          "data": {
            "text/plain": []
          },
          "metadata": {},
          "execution_count": 3
        }
      ]
    }
  ]
}